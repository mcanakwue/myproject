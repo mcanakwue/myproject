{
 "cells": [
  {
   "cell_type": "code",
   "execution_count": 2,
   "id": "cc68c3d6",
   "metadata": {},
   "outputs": [
    {
     "name": "stdout",
     "output_type": "stream",
     "text": [
      "Requirement already satisfied: matplotlip in c:\\users\\anakwue\\anaconda3\\lib\\site-packages (0.2)\n",
      "Note: you may need to restart the kernel to use updated packages.\n"
     ]
    }
   ],
   "source": [
    "pip install matplotlip"
   ]
  },
  {
   "cell_type": "code",
   "execution_count": 3,
   "id": "00f2f1ec",
   "metadata": {},
   "outputs": [],
   "source": [
    "import pandas as pd\n",
    "import numpy as np\n",
    "import matplotlib.pyplot as plt\n"
   ]
  },
  {
   "cell_type": "code",
   "execution_count": 4,
   "id": "ca562454",
   "metadata": {},
   "outputs": [],
   "source": [
    "df = pd.read_json(r'C:\\Users\\anakwue\\Desktop\\interviews and code challenge\\Lightfeather\\coding_challenge_dataset.json',lines=True)"
   ]
  },
  {
   "cell_type": "code",
   "execution_count": 5,
   "id": "f809bc57",
   "metadata": {},
   "outputs": [
    {
     "data": {
      "text/html": [
       "<div>\n",
       "<style scoped>\n",
       "    .dataframe tbody tr th:only-of-type {\n",
       "        vertical-align: middle;\n",
       "    }\n",
       "\n",
       "    .dataframe tbody tr th {\n",
       "        vertical-align: top;\n",
       "    }\n",
       "\n",
       "    .dataframe thead th {\n",
       "        text-align: right;\n",
       "    }\n",
       "</style>\n",
       "<table border=\"1\" class=\"dataframe\">\n",
       "  <thead>\n",
       "    <tr style=\"text-align: right;\">\n",
       "      <th></th>\n",
       "      <th>name</th>\n",
       "      <th>color_car</th>\n",
       "      <th>over_budget</th>\n",
       "      <th>month</th>\n",
       "      <th>spent_for_month</th>\n",
       "    </tr>\n",
       "  </thead>\n",
       "  <tbody>\n",
       "    <tr>\n",
       "      <th>0</th>\n",
       "      <td>Action, Jackson</td>\n",
       "      <td>brown</td>\n",
       "      <td>True</td>\n",
       "      <td>M$ay</td>\n",
       "      <td>4861426</td>\n",
       "    </tr>\n",
       "    <tr>\n",
       "      <th>1</th>\n",
       "      <td>Stark, Tony</td>\n",
       "      <td>black</td>\n",
       "      <td>False</td>\n",
       "      <td>August</td>\n",
       "      <td>38141</td>\n",
       "    </tr>\n",
       "    <tr>\n",
       "      <th>2</th>\n",
       "      <td>Way}ne, Bru&lt;c#e</td>\n",
       "      <td>brown</td>\n",
       "      <td>True</td>\n",
       "      <td>J&amp;une</td>\n",
       "      <td>3915760</td>\n",
       "    </tr>\n",
       "    <tr>\n",
       "      <th>3</th>\n",
       "      <td>Stark, Tony</td>\n",
       "      <td>orange</td>\n",
       "      <td>False</td>\n",
       "      <td>August</td>\n",
       "      <td>4151392</td>\n",
       "    </tr>\n",
       "    <tr>\n",
       "      <th>4</th>\n",
       "      <td>Stark, Tony</td>\n",
       "      <td>pink</td>\n",
       "      <td>False</td>\n",
       "      <td>January</td>\n",
       "      <td>1929964</td>\n",
       "    </tr>\n",
       "  </tbody>\n",
       "</table>\n",
       "</div>"
      ],
      "text/plain": [
       "              name color_car  over_budget    month  spent_for_month\n",
       "0  Action, Jackson     brown         True     M$ay          4861426\n",
       "1      Stark, Tony     black        False   August            38141\n",
       "2  Way}ne, Bru<c#e     brown         True    J&une          3915760\n",
       "3      Stark, Tony    orange        False   August          4151392\n",
       "4      Stark, Tony      pink        False  January          1929964"
      ]
     },
     "execution_count": 5,
     "metadata": {},
     "output_type": "execute_result"
    }
   ],
   "source": [
    "df.head()"
   ]
  },
  {
   "cell_type": "code",
   "execution_count": 6,
   "id": "1843a8bb",
   "metadata": {},
   "outputs": [
    {
     "data": {
      "text/plain": [
       "(1440, 5)"
      ]
     },
     "execution_count": 6,
     "metadata": {},
     "output_type": "execute_result"
    }
   ],
   "source": [
    "df.shape"
   ]
  },
  {
   "cell_type": "code",
   "execution_count": 7,
   "id": "8d3691ae",
   "metadata": {},
   "outputs": [
    {
     "data": {
      "text/plain": [
       "name               0\n",
       "color_car          0\n",
       "over_budget        0\n",
       "month              0\n",
       "spent_for_month    0\n",
       "dtype: int64"
      ]
     },
     "execution_count": 7,
     "metadata": {},
     "output_type": "execute_result"
    }
   ],
   "source": [
    "df.isnull().sum()  # no missing value"
   ]
  },
  {
   "cell_type": "code",
   "execution_count": 8,
   "id": "c495e19c",
   "metadata": {},
   "outputs": [
    {
     "name": "stdout",
     "output_type": "stream",
     "text": [
      "<class 'pandas.core.frame.DataFrame'>\n",
      "RangeIndex: 1440 entries, 0 to 1439\n",
      "Data columns (total 5 columns):\n",
      " #   Column           Non-Null Count  Dtype \n",
      "---  ------           --------------  ----- \n",
      " 0   name             1440 non-null   object\n",
      " 1   color_car        1440 non-null   object\n",
      " 2   over_budget      1440 non-null   bool  \n",
      " 3   month            1440 non-null   object\n",
      " 4   spent_for_month  1440 non-null   int64 \n",
      "dtypes: bool(1), int64(1), object(3)\n",
      "memory usage: 46.5+ KB\n"
     ]
    }
   ],
   "source": [
    "df.info()"
   ]
  },
  {
   "cell_type": "code",
   "execution_count": 9,
   "id": "8577f1c3",
   "metadata": {},
   "outputs": [
    {
     "data": {
      "text/plain": [
       "name               object\n",
       "color_car          object\n",
       "over_budget          bool\n",
       "month              object\n",
       "spent_for_month     int64\n",
       "dtype: object"
      ]
     },
     "execution_count": 9,
     "metadata": {},
     "output_type": "execute_result"
    }
   ],
   "source": [
    "df.dtypes"
   ]
  },
  {
   "cell_type": "code",
   "execution_count": 10,
   "id": "8849c42d",
   "metadata": {},
   "outputs": [
    {
     "name": "stderr",
     "output_type": "stream",
     "text": [
      "C:\\Users\\anakwue\\AppData\\Local\\Temp\\ipykernel_35764\\540162256.py:1: FutureWarning: The default value of regex will change from True to False in a future version.\n",
      "  df['name'] = df['name'].str.replace('[$%&-()^\\\"#/@;:<>_{}`+=~|.!?,]', '')      # removing special Character\n",
      "C:\\Users\\anakwue\\AppData\\Local\\Temp\\ipykernel_35764\\540162256.py:2: FutureWarning: The default value of regex will change from True to False in a future version.\n",
      "  df['month'] = df['month'].str.replace('[8$%&-()^\\\"#/@;:<>_{}`+=~|.!?,]', '')\n"
     ]
    }
   ],
   "source": [
    "df['name'] = df['name'].str.replace('[$%&-()^\\\"#/@;:<>_{}`+=~|.!?,]', '')      # removing special Character\n",
    "df['month'] = df['month'].str.replace('[8$%&-()^\\\"#/@;:<>_{}`+=~|.!?,]', '')"
   ]
  },
  {
   "cell_type": "code",
   "execution_count": 11,
   "id": "95b97d90",
   "metadata": {},
   "outputs": [
    {
     "data": {
      "text/html": [
       "<div>\n",
       "<style scoped>\n",
       "    .dataframe tbody tr th:only-of-type {\n",
       "        vertical-align: middle;\n",
       "    }\n",
       "\n",
       "    .dataframe tbody tr th {\n",
       "        vertical-align: top;\n",
       "    }\n",
       "\n",
       "    .dataframe thead th {\n",
       "        text-align: right;\n",
       "    }\n",
       "</style>\n",
       "<table border=\"1\" class=\"dataframe\">\n",
       "  <thead>\n",
       "    <tr style=\"text-align: right;\">\n",
       "      <th></th>\n",
       "      <th>name</th>\n",
       "      <th>color_car</th>\n",
       "      <th>over_budget</th>\n",
       "      <th>month</th>\n",
       "      <th>spent_for_month</th>\n",
       "    </tr>\n",
       "  </thead>\n",
       "  <tbody>\n",
       "    <tr>\n",
       "      <th>0</th>\n",
       "      <td>Action Jackson</td>\n",
       "      <td>brown</td>\n",
       "      <td>True</td>\n",
       "      <td>May</td>\n",
       "      <td>4861426</td>\n",
       "    </tr>\n",
       "    <tr>\n",
       "      <th>1</th>\n",
       "      <td>Stark Tony</td>\n",
       "      <td>black</td>\n",
       "      <td>False</td>\n",
       "      <td>August</td>\n",
       "      <td>38141</td>\n",
       "    </tr>\n",
       "    <tr>\n",
       "      <th>2</th>\n",
       "      <td>Wayne Bruce</td>\n",
       "      <td>brown</td>\n",
       "      <td>True</td>\n",
       "      <td>June</td>\n",
       "      <td>3915760</td>\n",
       "    </tr>\n",
       "    <tr>\n",
       "      <th>3</th>\n",
       "      <td>Stark Tony</td>\n",
       "      <td>orange</td>\n",
       "      <td>False</td>\n",
       "      <td>August</td>\n",
       "      <td>4151392</td>\n",
       "    </tr>\n",
       "    <tr>\n",
       "      <th>4</th>\n",
       "      <td>Stark Tony</td>\n",
       "      <td>pink</td>\n",
       "      <td>False</td>\n",
       "      <td>January</td>\n",
       "      <td>1929964</td>\n",
       "    </tr>\n",
       "    <tr>\n",
       "      <th>...</th>\n",
       "      <td>...</td>\n",
       "      <td>...</td>\n",
       "      <td>...</td>\n",
       "      <td>...</td>\n",
       "      <td>...</td>\n",
       "    </tr>\n",
       "    <tr>\n",
       "      <th>1435</th>\n",
       "      <td>Stark Tony</td>\n",
       "      <td>black</td>\n",
       "      <td>False</td>\n",
       "      <td>December</td>\n",
       "      <td>1808727</td>\n",
       "    </tr>\n",
       "    <tr>\n",
       "      <th>1436</th>\n",
       "      <td>Stark Tony</td>\n",
       "      <td>black</td>\n",
       "      <td>False</td>\n",
       "      <td>March</td>\n",
       "      <td>1156317</td>\n",
       "    </tr>\n",
       "    <tr>\n",
       "      <th>1437</th>\n",
       "      <td>James Raymon[d</td>\n",
       "      <td>red</td>\n",
       "      <td>False</td>\n",
       "      <td>Sept</td>\n",
       "      <td>1250185</td>\n",
       "    </tr>\n",
       "    <tr>\n",
       "      <th>1438</th>\n",
       "      <td>Action Jackson</td>\n",
       "      <td>black</td>\n",
       "      <td>True</td>\n",
       "      <td>December</td>\n",
       "      <td>85197</td>\n",
       "    </tr>\n",
       "    <tr>\n",
       "      <th>1439</th>\n",
       "      <td>Action Jackson</td>\n",
       "      <td>black</td>\n",
       "      <td>True</td>\n",
       "      <td>January</td>\n",
       "      <td>3680647</td>\n",
       "    </tr>\n",
       "  </tbody>\n",
       "</table>\n",
       "<p>1440 rows × 5 columns</p>\n",
       "</div>"
      ],
      "text/plain": [
       "                name color_car  over_budget     month  spent_for_month\n",
       "0     Action Jackson     brown         True       May          4861426\n",
       "1         Stark Tony     black        False    August            38141\n",
       "2        Wayne Bruce     brown         True      June          3915760\n",
       "3         Stark Tony    orange        False    August          4151392\n",
       "4         Stark Tony      pink        False   January          1929964\n",
       "...              ...       ...          ...       ...              ...\n",
       "1435      Stark Tony     black        False  December          1808727\n",
       "1436      Stark Tony     black        False     March          1156317\n",
       "1437  James Raymon[d       red        False      Sept          1250185\n",
       "1438  Action Jackson     black         True  December            85197\n",
       "1439  Action Jackson     black         True   January          3680647\n",
       "\n",
       "[1440 rows x 5 columns]"
      ]
     },
     "execution_count": 11,
     "metadata": {},
     "output_type": "execute_result"
    }
   ],
   "source": [
    "df"
   ]
  },
  {
   "cell_type": "code",
   "execution_count": 12,
   "id": "ef24f1d4",
   "metadata": {},
   "outputs": [],
   "source": [
    "dt = df.loc[df['name'] == \"Stark Tony\"]     # Filter out Tony Shark's data to avoid data leakage\n",
    "dt2 = df.loc[df['name'] == \"Stark Tony\"]\n",
    "df = df.loc[df['name'] != \"Stark Tony\"]"
   ]
  },
  {
   "cell_type": "code",
   "execution_count": 13,
   "id": "42d6d626",
   "metadata": {},
   "outputs": [
    {
     "data": {
      "text/plain": [
       "((1091, 5), (349, 5))"
      ]
     },
     "execution_count": 13,
     "metadata": {},
     "output_type": "execute_result"
    }
   ],
   "source": [
    "df.shape,dt.shape"
   ]
  },
  {
   "cell_type": "code",
   "execution_count": 14,
   "id": "a79a4f96",
   "metadata": {},
   "outputs": [
    {
     "name": "stderr",
     "output_type": "stream",
     "text": [
      "C:\\Users\\anakwue\\AppData\\Local\\Temp\\ipykernel_35764\\2926238641.py:6: SettingWithCopyWarning: \n",
      "A value is trying to be set on a copy of a slice from a DataFrame.\n",
      "Try using .loc[row_indexer,col_indexer] = value instead\n",
      "\n",
      "See the caveats in the documentation: https://pandas.pydata.org/pandas-docs/stable/user_guide/indexing.html#returning-a-view-versus-a-copy\n",
      "  df[i] = label_encoder.fit_transform(df[i])\n"
     ]
    }
   ],
   "source": [
    "from sklearn.preprocessing import LabelEncoder      # convert the catagorical variable to numbers\n",
    "label_encoder = LabelEncoder()\n",
    "\n",
    "for i in df.columns:\n",
    " if df[i].dtypes == object:\n",
    "    df[i] = label_encoder.fit_transform(df[i])"
   ]
  },
  {
   "cell_type": "code",
   "execution_count": 15,
   "id": "5736d791",
   "metadata": {},
   "outputs": [
    {
     "data": {
      "text/html": [
       "<div>\n",
       "<style scoped>\n",
       "    .dataframe tbody tr th:only-of-type {\n",
       "        vertical-align: middle;\n",
       "    }\n",
       "\n",
       "    .dataframe tbody tr th {\n",
       "        vertical-align: top;\n",
       "    }\n",
       "\n",
       "    .dataframe thead th {\n",
       "        text-align: right;\n",
       "    }\n",
       "</style>\n",
       "<table border=\"1\" class=\"dataframe\">\n",
       "  <thead>\n",
       "    <tr style=\"text-align: right;\">\n",
       "      <th></th>\n",
       "      <th>name</th>\n",
       "      <th>color_car</th>\n",
       "      <th>month</th>\n",
       "      <th>spent_for_month</th>\n",
       "      <th>True</th>\n",
       "    </tr>\n",
       "  </thead>\n",
       "  <tbody>\n",
       "    <tr>\n",
       "      <th>0</th>\n",
       "      <td>0</td>\n",
       "      <td>2</td>\n",
       "      <td>8</td>\n",
       "      <td>4861426</td>\n",
       "      <td>1</td>\n",
       "    </tr>\n",
       "    <tr>\n",
       "      <th>2</th>\n",
       "      <td>3</td>\n",
       "      <td>2</td>\n",
       "      <td>6</td>\n",
       "      <td>3915760</td>\n",
       "      <td>1</td>\n",
       "    </tr>\n",
       "    <tr>\n",
       "      <th>5</th>\n",
       "      <td>2</td>\n",
       "      <td>7</td>\n",
       "      <td>9</td>\n",
       "      <td>1486558</td>\n",
       "      <td>0</td>\n",
       "    </tr>\n",
       "    <tr>\n",
       "      <th>6</th>\n",
       "      <td>3</td>\n",
       "      <td>7</td>\n",
       "      <td>8</td>\n",
       "      <td>1144863</td>\n",
       "      <td>0</td>\n",
       "    </tr>\n",
       "    <tr>\n",
       "      <th>8</th>\n",
       "      <td>1</td>\n",
       "      <td>1</td>\n",
       "      <td>10</td>\n",
       "      <td>1100852</td>\n",
       "      <td>0</td>\n",
       "    </tr>\n",
       "    <tr>\n",
       "      <th>...</th>\n",
       "      <td>...</td>\n",
       "      <td>...</td>\n",
       "      <td>...</td>\n",
       "      <td>...</td>\n",
       "      <td>...</td>\n",
       "    </tr>\n",
       "    <tr>\n",
       "      <th>1433</th>\n",
       "      <td>3</td>\n",
       "      <td>1</td>\n",
       "      <td>9</td>\n",
       "      <td>543768</td>\n",
       "      <td>0</td>\n",
       "    </tr>\n",
       "    <tr>\n",
       "      <th>1434</th>\n",
       "      <td>2</td>\n",
       "      <td>2</td>\n",
       "      <td>3</td>\n",
       "      <td>1143786</td>\n",
       "      <td>0</td>\n",
       "    </tr>\n",
       "    <tr>\n",
       "      <th>1437</th>\n",
       "      <td>1</td>\n",
       "      <td>5</td>\n",
       "      <td>11</td>\n",
       "      <td>1250185</td>\n",
       "      <td>0</td>\n",
       "    </tr>\n",
       "    <tr>\n",
       "      <th>1438</th>\n",
       "      <td>0</td>\n",
       "      <td>0</td>\n",
       "      <td>2</td>\n",
       "      <td>85197</td>\n",
       "      <td>1</td>\n",
       "    </tr>\n",
       "    <tr>\n",
       "      <th>1439</th>\n",
       "      <td>0</td>\n",
       "      <td>0</td>\n",
       "      <td>4</td>\n",
       "      <td>3680647</td>\n",
       "      <td>1</td>\n",
       "    </tr>\n",
       "  </tbody>\n",
       "</table>\n",
       "<p>1091 rows × 5 columns</p>\n",
       "</div>"
      ],
      "text/plain": [
       "      name  color_car  month  spent_for_month  True\n",
       "0        0          2      8          4861426     1\n",
       "2        3          2      6          3915760     1\n",
       "5        2          7      9          1486558     0\n",
       "6        3          7      8          1144863     0\n",
       "8        1          1     10          1100852     0\n",
       "...    ...        ...    ...              ...   ...\n",
       "1433     3          1      9           543768     0\n",
       "1434     2          2      3          1143786     0\n",
       "1437     1          5     11          1250185     0\n",
       "1438     0          0      2            85197     1\n",
       "1439     0          0      4          3680647     1\n",
       "\n",
       "[1091 rows x 5 columns]"
      ]
     },
     "execution_count": 15,
     "metadata": {},
     "output_type": "execute_result"
    }
   ],
   "source": [
    "df = pd.get_dummies(df, columns=['over_budget'], prefix=\"\", prefix_sep='', drop_first=True)\n",
    "df"
   ]
  },
  {
   "cell_type": "code",
   "execution_count": 16,
   "id": "099abc52",
   "metadata": {},
   "outputs": [],
   "source": [
    "x = df.iloc[:,:-1]"
   ]
  },
  {
   "cell_type": "code",
   "execution_count": 17,
   "id": "ab9a3a1c",
   "metadata": {},
   "outputs": [],
   "source": [
    "y = df['True']"
   ]
  },
  {
   "cell_type": "code",
   "execution_count": 31,
   "id": "0c8c7b5e",
   "metadata": {},
   "outputs": [
    {
     "data": {
      "image/png": "[encoded data removed]",
      "text/plain": [
       "<Figure size 1400x1200 with 2 Axes>"
      ]
     },
     "metadata": {},
     "output_type": "display_data"
    }
   ],
   "source": [
    "import seaborn as sns\n",
    "plt.figure(figsize=(14,12))\n",
    "sns.heatmap(df.corr(),linewidths=.1,cmap=\"YlGnBu\", annot=True)   #get linear correlation of the data\n",
    "plt.yticks(rotation=0);"
   ]
  },
  {
   "cell_type": "code",
   "execution_count": 18,
   "id": "67bd11ef",
   "metadata": {},
   "outputs": [
    {
     "data": {
      "text/plain": [
       "0.5205479452054794"
      ]
     },
     "execution_count": 18,
     "metadata": {},
     "output_type": "execute_result"
    }
   ],
   "source": [
    "from sklearn.metrics import confusion_matrix                           # Train a model with randomforest classifier\n",
    "from sklearn.model_selection import train_test_split\n",
    "from sklearn.metrics import r2_score\n",
    "\n",
    "x_train, x_test, y_train, y_test = train_test_split= train_test_split(x, y, test_size=0.20, random_state=42)\n",
    "\n",
    "# build random forest classifier and test accuracy\n",
    "from sklearn import ensemble\n",
    "model = ensemble.RandomForestClassifier(n_estimators=100)\n",
    "model.fit(x_train,y_train)\n",
    "model.score(x_test,y_test)\n"
   ]
  },
  {
   "cell_type": "code",
   "execution_count": 19,
   "id": "60954c64",
   "metadata": {},
   "outputs": [
    {
     "data": {
      "text/plain": [
       "array([[54, 41],\n",
       "       [64, 60]], dtype=int64)"
      ]
     },
     "execution_count": 19,
     "metadata": {},
     "output_type": "execute_result"
    }
   ],
   "source": [
    "y_pred = model.predict(x_test)\n",
    "confusion_matrix(y_test, y_pred)"
   ]
  },
  {
   "cell_type": "code",
   "execution_count": 20,
   "id": "ff0c1d15",
   "metadata": {},
   "outputs": [],
   "source": [
    "# to make prediction for Tony stark"
   ]
  },
  {
   "cell_type": "code",
   "execution_count": 21,
   "id": "b50d9975",
   "metadata": {},
   "outputs": [
    {
     "name": "stderr",
     "output_type": "stream",
     "text": [
      "C:\\Users\\anakwue\\AppData\\Local\\Temp\\ipykernel_35764\\696969098.py:3: SettingWithCopyWarning: \n",
      "A value is trying to be set on a copy of a slice from a DataFrame.\n",
      "Try using .loc[row_indexer,col_indexer] = value instead\n",
      "\n",
      "See the caveats in the documentation: https://pandas.pydata.org/pandas-docs/stable/user_guide/indexing.html#returning-a-view-versus-a-copy\n",
      "  dt[i] = label_encoder.fit_transform(dt[i])\n"
     ]
    }
   ],
   "source": [
    "for i in dt.columns:\n",
    " if dt[i].dtypes == object:\n",
    "    dt[i] = label_encoder.fit_transform(dt[i])"
   ]
  },
  {
   "cell_type": "code",
   "execution_count": 22,
   "id": "08c9a2ff",
   "metadata": {},
   "outputs": [
    {
     "data": {
      "text/html": [
       "<div>\n",
       "<style scoped>\n",
       "    .dataframe tbody tr th:only-of-type {\n",
       "        vertical-align: middle;\n",
       "    }\n",
       "\n",
       "    .dataframe tbody tr th {\n",
       "        vertical-align: top;\n",
       "    }\n",
       "\n",
       "    .dataframe thead th {\n",
       "        text-align: right;\n",
       "    }\n",
       "</style>\n",
       "<table border=\"1\" class=\"dataframe\">\n",
       "  <thead>\n",
       "    <tr style=\"text-align: right;\">\n",
       "      <th></th>\n",
       "      <th>name</th>\n",
       "      <th>color_car</th>\n",
       "      <th>over_budget</th>\n",
       "      <th>month</th>\n",
       "      <th>spent_for_month</th>\n",
       "    </tr>\n",
       "  </thead>\n",
       "  <tbody>\n",
       "    <tr>\n",
       "      <th>1</th>\n",
       "      <td>0</td>\n",
       "      <td>0</td>\n",
       "      <td>False</td>\n",
       "      <td>1</td>\n",
       "      <td>38141</td>\n",
       "    </tr>\n",
       "    <tr>\n",
       "      <th>3</th>\n",
       "      <td>0</td>\n",
       "      <td>3</td>\n",
       "      <td>False</td>\n",
       "      <td>1</td>\n",
       "      <td>4151392</td>\n",
       "    </tr>\n",
       "    <tr>\n",
       "      <th>4</th>\n",
       "      <td>0</td>\n",
       "      <td>4</td>\n",
       "      <td>False</td>\n",
       "      <td>4</td>\n",
       "      <td>1929964</td>\n",
       "    </tr>\n",
       "    <tr>\n",
       "      <th>7</th>\n",
       "      <td>0</td>\n",
       "      <td>0</td>\n",
       "      <td>True</td>\n",
       "      <td>2</td>\n",
       "      <td>1873664</td>\n",
       "    </tr>\n",
       "    <tr>\n",
       "      <th>9</th>\n",
       "      <td>0</td>\n",
       "      <td>0</td>\n",
       "      <td>True</td>\n",
       "      <td>3</td>\n",
       "      <td>3414280</td>\n",
       "    </tr>\n",
       "    <tr>\n",
       "      <th>...</th>\n",
       "      <td>...</td>\n",
       "      <td>...</td>\n",
       "      <td>...</td>\n",
       "      <td>...</td>\n",
       "      <td>...</td>\n",
       "    </tr>\n",
       "    <tr>\n",
       "      <th>1410</th>\n",
       "      <td>0</td>\n",
       "      <td>2</td>\n",
       "      <td>True</td>\n",
       "      <td>3</td>\n",
       "      <td>4889555</td>\n",
       "    </tr>\n",
       "    <tr>\n",
       "      <th>1414</th>\n",
       "      <td>0</td>\n",
       "      <td>4</td>\n",
       "      <td>True</td>\n",
       "      <td>5</td>\n",
       "      <td>3586563</td>\n",
       "    </tr>\n",
       "    <tr>\n",
       "      <th>1429</th>\n",
       "      <td>0</td>\n",
       "      <td>4</td>\n",
       "      <td>True</td>\n",
       "      <td>3</td>\n",
       "      <td>434073</td>\n",
       "    </tr>\n",
       "    <tr>\n",
       "      <th>1435</th>\n",
       "      <td>0</td>\n",
       "      <td>0</td>\n",
       "      <td>False</td>\n",
       "      <td>2</td>\n",
       "      <td>1808727</td>\n",
       "    </tr>\n",
       "    <tr>\n",
       "      <th>1436</th>\n",
       "      <td>0</td>\n",
       "      <td>0</td>\n",
       "      <td>False</td>\n",
       "      <td>7</td>\n",
       "      <td>1156317</td>\n",
       "    </tr>\n",
       "  </tbody>\n",
       "</table>\n",
       "<p>349 rows × 5 columns</p>\n",
       "</div>"
      ],
      "text/plain": [
       "      name  color_car  over_budget  month  spent_for_month\n",
       "1        0          0        False      1            38141\n",
       "3        0          3        False      1          4151392\n",
       "4        0          4        False      4          1929964\n",
       "7        0          0         True      2          1873664\n",
       "9        0          0         True      3          3414280\n",
       "...    ...        ...          ...    ...              ...\n",
       "1410     0          2         True      3          4889555\n",
       "1414     0          4         True      5          3586563\n",
       "1429     0          4         True      3           434073\n",
       "1435     0          0        False      2          1808727\n",
       "1436     0          0        False      7          1156317\n",
       "\n",
       "[349 rows x 5 columns]"
      ]
     },
     "execution_count": 22,
     "metadata": {},
     "output_type": "execute_result"
    }
   ],
   "source": [
    "dt"
   ]
  },
  {
   "cell_type": "code",
   "execution_count": 23,
   "id": "9a96486c",
   "metadata": {},
   "outputs": [],
   "source": [
    "dt = pd.get_dummies(dt, columns=['over_budget'], prefix=\"\", prefix_sep='', drop_first=True)\n",
    "dx = dt.iloc[:,:-1]\n",
    "dy = dt['True']\n"
   ]
  },
  {
   "cell_type": "code",
   "execution_count": 24,
   "id": "9a1c46f0",
   "metadata": {},
   "outputs": [],
   "source": [
    "Tony_Pred = model.predict(dx)\n"
   ]
  },
  {
   "cell_type": "code",
   "execution_count": 25,
   "id": "97fe8eab",
   "metadata": {},
   "outputs": [],
   "source": [
    "Tony_monthly_pred = pd.DataFrame({\"Month\": dt2['month'], \"Predictions\": Tony_Pred})"
   ]
  },
  {
   "cell_type": "code",
   "execution_count": 26,
   "id": "c630fc88",
   "metadata": {},
   "outputs": [],
   "source": [
    "#model.score(Tony_Pred,dy)"
   ]
  },
  {
   "cell_type": "code",
   "execution_count": 27,
   "id": "07268d73",
   "metadata": {},
   "outputs": [
    {
     "data": {
      "text/html": [
       "<div>\n",
       "<style scoped>\n",
       "    .dataframe tbody tr th:only-of-type {\n",
       "        vertical-align: middle;\n",
       "    }\n",
       "\n",
       "    .dataframe tbody tr th {\n",
       "        vertical-align: top;\n",
       "    }\n",
       "\n",
       "    .dataframe thead th {\n",
       "        text-align: right;\n",
       "    }\n",
       "</style>\n",
       "<table border=\"1\" class=\"dataframe\">\n",
       "  <thead>\n",
       "    <tr style=\"text-align: right;\">\n",
       "      <th></th>\n",
       "      <th>Month</th>\n",
       "      <th>Predictions</th>\n",
       "    </tr>\n",
       "  </thead>\n",
       "  <tbody>\n",
       "    <tr>\n",
       "      <th>1</th>\n",
       "      <td>August</td>\n",
       "      <td>0</td>\n",
       "    </tr>\n",
       "    <tr>\n",
       "      <th>3</th>\n",
       "      <td>August</td>\n",
       "      <td>0</td>\n",
       "    </tr>\n",
       "    <tr>\n",
       "      <th>4</th>\n",
       "      <td>January</td>\n",
       "      <td>1</td>\n",
       "    </tr>\n",
       "    <tr>\n",
       "      <th>7</th>\n",
       "      <td>December</td>\n",
       "      <td>0</td>\n",
       "    </tr>\n",
       "    <tr>\n",
       "      <th>9</th>\n",
       "      <td>February</td>\n",
       "      <td>1</td>\n",
       "    </tr>\n",
       "    <tr>\n",
       "      <th>...</th>\n",
       "      <td>...</td>\n",
       "      <td>...</td>\n",
       "    </tr>\n",
       "    <tr>\n",
       "      <th>1410</th>\n",
       "      <td>February</td>\n",
       "      <td>1</td>\n",
       "    </tr>\n",
       "    <tr>\n",
       "      <th>1414</th>\n",
       "      <td>July</td>\n",
       "      <td>1</td>\n",
       "    </tr>\n",
       "    <tr>\n",
       "      <th>1429</th>\n",
       "      <td>February</td>\n",
       "      <td>1</td>\n",
       "    </tr>\n",
       "    <tr>\n",
       "      <th>1435</th>\n",
       "      <td>December</td>\n",
       "      <td>0</td>\n",
       "    </tr>\n",
       "    <tr>\n",
       "      <th>1436</th>\n",
       "      <td>March</td>\n",
       "      <td>1</td>\n",
       "    </tr>\n",
       "  </tbody>\n",
       "</table>\n",
       "<p>349 rows × 2 columns</p>\n",
       "</div>"
      ],
      "text/plain": [
       "         Month  Predictions\n",
       "1       August            0\n",
       "3       August            0\n",
       "4      January            1\n",
       "7     December            0\n",
       "9     February            1\n",
       "...        ...          ...\n",
       "1410  February            1\n",
       "1414      July            1\n",
       "1429  February            1\n",
       "1435  December            0\n",
       "1436     March            1\n",
       "\n",
       "[349 rows x 2 columns]"
      ]
     },
     "execution_count": 27,
     "metadata": {},
     "output_type": "execute_result"
    }
   ],
   "source": [
    "Tony_monthly_pred"
   ]
  },
  {
   "cell_type": "code",
   "execution_count": 28,
   "id": "ff43421e",
   "metadata": {},
   "outputs": [
    {
     "data": {
      "text/plain": [
       "Month     Predictions\n",
       "April     0               9\n",
       "          1              16\n",
       "August    0              16\n",
       "          1              11\n",
       "December  0              23\n",
       "          1               8\n",
       "February  0              18\n",
       "          1               9\n",
       "January   0              16\n",
       "          1              14\n",
       "July      0              15\n",
       "          1              17\n",
       "June      0              21\n",
       "          1               8\n",
       "March     0              11\n",
       "          1              13\n",
       "May       0              12\n",
       "          1              18\n",
       "November  0              11\n",
       "          1              21\n",
       "October   0              17\n",
       "          1              18\n",
       "Sept      0               7\n",
       "          1              20\n",
       "Name: Predictions, dtype: int64"
      ]
     },
     "execution_count": 28,
     "metadata": {},
     "output_type": "execute_result"
    }
   ],
   "source": [
    "Tony_monthly_pred.groupby(['Month','Predictions'])['Predictions'].count()"
   ]
  },
  {
   "cell_type": "code",
   "execution_count": null,
   "id": "8322b917",
   "metadata": {},
   "outputs": [],
   "source": []
  }
 ],
 "metadata": {
  "kernelspec": {
   "display_name": "Python 3 (ipykernel)",
   "language": "python",
   "name": "python3"
  },
  "language_info": {
   "codemirror_mode": {
    "name": "ipython",
    "version": 3
   },
   "file_extension": ".py",
   "mimetype": "text/x-python",
   "name": "python",
   "nbconvert_exporter": "python",
   "pygments_lexer": "ipython3",
   "version": "3.9.13"
  }
 },
 "nbformat": 4,
 "nbformat_minor": 5
}
